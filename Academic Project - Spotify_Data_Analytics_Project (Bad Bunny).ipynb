{
 "cells": [
  {
   "cell_type": "code",
   "execution_count": 1,
   "metadata": {
    "colab": {
     "base_uri": "https://localhost:8080/"
    },
    "id": "ZY4NC1vf7FWe",
    "outputId": "a2f60def-d2d1-4026-c222-c7475484fb60"
   },
   "outputs": [],
   "source": [
    "#!pip install spotipy # If using jupyter/anaconda and this module is installed, comment this out.\n",
    "\n",
    "# Data Analytics Modules\n",
    "import numpy as np\n",
    "import pandas as pd \n",
    "\n",
    "# Data Visualization\n",
    "import matplotlib.pyplot as plt\n",
    "import seaborn as sns\n",
    "\n",
    "# Spotify API\n",
    "import spotipy\n",
    "from spotipy.oauth2 import SpotifyClientCredentials\n",
    "import spotipy.util as util \n",
    "import os\n",
    "\n",
    "# Sqlite3 Module for Database\n",
    "import sqlite3"
   ]
  },
  {
   "cell_type": "markdown",
   "metadata": {
    "id": "-SJPjmRYTD9E"
   },
   "source": [
    "# **Step 1**: Establishing Connection with Spotify API"
   ]
  },
  {
   "cell_type": "code",
   "execution_count": 2,
   "metadata": {
    "id": "jMe131E27FWm"
   },
   "outputs": [],
   "source": [
    "# Spotify API Credentials (Obtained from Spotify Developer Account)\n",
    "client_id = '8c16d4cbec99430a8b16c350d07b99c2'\n",
    "secret = '238e17298f334142bb5667f90e6cd513'"
   ]
  },
  {
   "cell_type": "code",
   "execution_count": 3,
   "metadata": {
    "id": "h2fafkWv7FWn"
   },
   "outputs": [],
   "source": [
    "# Spotify API Authorization/Connection\n",
    "client_credentials_manager = SpotifyClientCredentials(client_id= client_id, client_secret=secret)\n",
    "sp = spotipy.Spotify(client_credentials_manager = client_credentials_manager)"
   ]
  },
  {
   "cell_type": "markdown",
   "metadata": {
    "id": "n4CHBsWISyon"
   },
   "source": [
    "## Retrieving Artist Data From Spotify API"
   ]
  },
  {
   "cell_type": "code",
   "execution_count": 4,
   "metadata": {
    "id": "eLxoA4uz7FWn"
   },
   "outputs": [],
   "source": [
    "\"\"\" Note to self: Convert into a function that enables user to enter artist of choice?\"\"\"\n",
    "# Extracting Data From an Artist on Spotify\n",
    "name = {'Bad Bunny'}\n",
    "result = sp.search(name)\n",
    "\n",
    "# Testing to see what data looks like\n",
    "# result['tracks']['items'][0]['artists']"
   ]
  },
  {
   "cell_type": "code",
   "execution_count": 5,
   "metadata": {
    "id": "Pvf-hrPT7FWo"
   },
   "outputs": [],
   "source": [
    "# Extract Artist Information/ Yields URI spotify:artist:4q3ewBCX7sLwd24euuV69X\n",
    "artist_uri = result['tracks']['items'][0]['artists'][0]['uri']\n",
    "\n",
    "# Pass in Artist information to get album data\n",
    "sp_albums = sp.artist_albums(artist_uri, album_type='album')"
   ]
  },
  {
   "cell_type": "code",
   "execution_count": 6,
   "metadata": {
    "id": "GkEj2VrM7FWp"
   },
   "outputs": [],
   "source": [
    "albums = [] # Create a list to contain album names\n",
    "album_uris = [] # Create a list that contains corresponding URI's\n",
    "\n",
    "# Iterate through the extracted data and append names and uris to seperate lists\n",
    "for i in range(len(sp_albums['items'])):\n",
    "    albums.append(sp_albums['items'][i]['name'])\n",
    "    album_uris.append(sp_albums['items'][i]['uri'])"
   ]
  },
  {
   "cell_type": "markdown",
   "metadata": {
    "id": "Zkjz3bVy7FWq"
   },
   "source": [
    "# **Step 2**: Cleaning Retrieved Artist Data\n",
    "\n",
    "- **Stages of Data Breakdown**: \n",
    "- *Artist to Album*\n",
    "- *Album to Songs*\n",
    "- *Songs to Features*"
   ]
  },
  {
   "cell_type": "code",
   "execution_count": 7,
   "metadata": {
    "id": "lsH474nV7FWq"
   },
   "outputs": [],
   "source": [
    "# Create a dictionary for each album under spotify_albums\n",
    "spotify_albums = {}\n",
    "\n",
    "for album in album_uris:\n",
    "    \n",
    "    spotify_albums[album] = {}\n",
    "\n",
    "    spotify_albums[album]['track_number'] = []\n",
    "    spotify_albums[album]['id'] = []\n",
    "    spotify_albums[album]['name'] = []\n",
    "    spotify_albums[album]['uri'] = []\n",
    "\n",
    "    songs = sp.album_tracks(album)\n",
    "\n",
    "    for i in range(len(songs['items'])):\n",
    "        spotify_albums[album]['track_number'].append(songs['items'][i]['track_number'])\n",
    "        spotify_albums[album]['id'].append(songs['items'][i]['id'])\n",
    "        spotify_albums[album]['name'].append(songs['items'][i]['name'])\n",
    "        spotify_albums[album]['uri'].append(songs['items'][i]['uri'])\n"
   ]
  },
  {
   "cell_type": "code",
   "execution_count": 8,
   "metadata": {
    "id": "F4nU7Hq17FWq"
   },
   "outputs": [],
   "source": [
    "# Create lists to append song data to from each dictionary within spotify_albums\n",
    "for album in spotify_albums:\n",
    "    spotify_albums[album]['acousticness'] = []\n",
    "    spotify_albums[album]['danceability'] = []\n",
    "    spotify_albums[album]['energy'] = []\n",
    "    spotify_albums[album]['liveness'] = [] \n",
    "    spotify_albums[album]['tempo'] = []\n",
    "    spotify_albums[album]['valence'] = []\n",
    "    spotify_albums[album]['popularity'] = []\n",
    "    \n",
    "    # Pulling song features and appending them to corresponding list\n",
    "    for track in spotify_albums[album]['uri']:\n",
    "        features = sp.audio_features(track)\n",
    "        spotify_albums[album]['acousticness'].append(features[0]['acousticness'])\n",
    "        spotify_albums[album]['danceability'].append(features[0]['danceability'])\n",
    "        spotify_albums[album]['energy'].append(features[0]['energy'])\n",
    "        spotify_albums[album]['liveness'].append(features[0]['liveness'])\n",
    "        spotify_albums[album]['tempo'].append(features[0]['tempo'])\n",
    "        spotify_albums[album]['valence'].append(features[0]['valence'])\n",
    "        popularity = sp.track(track)\n",
    "        spotify_albums[album]['popularity'].append(popularity['popularity'])"
   ]
  },
  {
   "cell_type": "markdown",
   "metadata": {
    "id": "kix9z4x37FWr"
   },
   "source": [
    "# Constructing the DataFrame\n",
    "- Create a dataframe for each album\n",
    "- Append the corresponding albums to have the ability to conduct more advanced analysis (groupby)\n",
    "- Combined each album dataframe into one master dataframe"
   ]
  },
  {
   "cell_type": "code",
   "execution_count": 9,
   "metadata": {
    "colab": {
     "base_uri": "https://localhost:8080/",
     "height": 355
    },
    "id": "MokfEi1J7FWr",
    "outputId": "ff158984-1550-468a-8408-1ac92e0a9236",
    "scrolled": true
   },
   "outputs": [
    {
     "data": {
      "text/html": [
       "<div>\n",
       "<style scoped>\n",
       "    .dataframe tbody tr th:only-of-type {\n",
       "        vertical-align: middle;\n",
       "    }\n",
       "\n",
       "    .dataframe tbody tr th {\n",
       "        vertical-align: top;\n",
       "    }\n",
       "\n",
       "    .dataframe thead th {\n",
       "        text-align: right;\n",
       "    }\n",
       "</style>\n",
       "<table border=\"1\" class=\"dataframe\">\n",
       "  <thead>\n",
       "    <tr style=\"text-align: right;\">\n",
       "      <th></th>\n",
       "      <th>name</th>\n",
       "      <th>acousticness</th>\n",
       "      <th>danceability</th>\n",
       "      <th>energy</th>\n",
       "      <th>liveness</th>\n",
       "      <th>tempo</th>\n",
       "      <th>valence</th>\n",
       "      <th>popularity</th>\n",
       "      <th>album</th>\n",
       "    </tr>\n",
       "  </thead>\n",
       "  <tbody>\n",
       "    <tr>\n",
       "      <th>0</th>\n",
       "      <td>EL MUNDO ES MÍO</td>\n",
       "      <td>0.166</td>\n",
       "      <td>0.716</td>\n",
       "      <td>0.522</td>\n",
       "      <td>0.113</td>\n",
       "      <td>76.993</td>\n",
       "      <td>0.224</td>\n",
       "      <td>70</td>\n",
       "      <td>EL ÚLTIMO TOUR DEL MUNDO</td>\n",
       "    </tr>\n",
       "    <tr>\n",
       "      <th>1</th>\n",
       "      <td>TE MUDASTE</td>\n",
       "      <td>0.234</td>\n",
       "      <td>0.811</td>\n",
       "      <td>0.637</td>\n",
       "      <td>0.118</td>\n",
       "      <td>92.025</td>\n",
       "      <td>0.471</td>\n",
       "      <td>86</td>\n",
       "      <td>EL ÚLTIMO TOUR DEL MUNDO</td>\n",
       "    </tr>\n",
       "    <tr>\n",
       "      <th>2</th>\n",
       "      <td>HOY COBRÉ</td>\n",
       "      <td>0.0464</td>\n",
       "      <td>0.86</td>\n",
       "      <td>0.725</td>\n",
       "      <td>0.0994</td>\n",
       "      <td>145.001</td>\n",
       "      <td>0.375</td>\n",
       "      <td>74</td>\n",
       "      <td>EL ÚLTIMO TOUR DEL MUNDO</td>\n",
       "    </tr>\n",
       "    <tr>\n",
       "      <th>3</th>\n",
       "      <td>MALDITA POBREZA</td>\n",
       "      <td>0.139</td>\n",
       "      <td>0.762</td>\n",
       "      <td>0.861</td>\n",
       "      <td>0.0956</td>\n",
       "      <td>133.037</td>\n",
       "      <td>0.588</td>\n",
       "      <td>71</td>\n",
       "      <td>EL ÚLTIMO TOUR DEL MUNDO</td>\n",
       "    </tr>\n",
       "    <tr>\n",
       "      <th>4</th>\n",
       "      <td>LA NOCHE DE ANOCHE</td>\n",
       "      <td>0.0303</td>\n",
       "      <td>0.856</td>\n",
       "      <td>0.618</td>\n",
       "      <td>0.0866</td>\n",
       "      <td>81.993</td>\n",
       "      <td>0.391</td>\n",
       "      <td>91</td>\n",
       "      <td>EL ÚLTIMO TOUR DEL MUNDO</td>\n",
       "    </tr>\n",
       "    <tr>\n",
       "      <th>5</th>\n",
       "      <td>TE DESEO LO MEJOR</td>\n",
       "      <td>0.158</td>\n",
       "      <td>0.763</td>\n",
       "      <td>0.597</td>\n",
       "      <td>0.111</td>\n",
       "      <td>126.054</td>\n",
       "      <td>0.194</td>\n",
       "      <td>74</td>\n",
       "      <td>EL ÚLTIMO TOUR DEL MUNDO</td>\n",
       "    </tr>\n",
       "    <tr>\n",
       "      <th>6</th>\n",
       "      <td>YO VISTO ASÍ</td>\n",
       "      <td>0.0947</td>\n",
       "      <td>0.688</td>\n",
       "      <td>0.881</td>\n",
       "      <td>0.0804</td>\n",
       "      <td>123.013</td>\n",
       "      <td>0.677</td>\n",
       "      <td>76</td>\n",
       "      <td>EL ÚLTIMO TOUR DEL MUNDO</td>\n",
       "    </tr>\n",
       "    <tr>\n",
       "      <th>7</th>\n",
       "      <td>HACIENDO QUE ME AMAS</td>\n",
       "      <td>0.869</td>\n",
       "      <td>0.584</td>\n",
       "      <td>0.411</td>\n",
       "      <td>0.0955</td>\n",
       "      <td>169.934</td>\n",
       "      <td>0.412</td>\n",
       "      <td>80</td>\n",
       "      <td>EL ÚLTIMO TOUR DEL MUNDO</td>\n",
       "    </tr>\n",
       "    <tr>\n",
       "      <th>8</th>\n",
       "      <td>BOOKER T</td>\n",
       "      <td>0.114</td>\n",
       "      <td>0.883</td>\n",
       "      <td>0.6</td>\n",
       "      <td>0.0931</td>\n",
       "      <td>113.903</td>\n",
       "      <td>0.691</td>\n",
       "      <td>81</td>\n",
       "      <td>EL ÚLTIMO TOUR DEL MUNDO</td>\n",
       "    </tr>\n",
       "    <tr>\n",
       "      <th>9</th>\n",
       "      <td>LA DROGA</td>\n",
       "      <td>0.0439</td>\n",
       "      <td>0.643</td>\n",
       "      <td>0.727</td>\n",
       "      <td>0.123</td>\n",
       "      <td>90.019</td>\n",
       "      <td>0.295</td>\n",
       "      <td>73</td>\n",
       "      <td>EL ÚLTIMO TOUR DEL MUNDO</td>\n",
       "    </tr>\n",
       "  </tbody>\n",
       "</table>\n",
       "</div>"
      ],
      "text/plain": [
       "                   name acousticness danceability energy liveness    tempo  \\\n",
       "0       EL MUNDO ES MÍO        0.166        0.716  0.522    0.113   76.993   \n",
       "1            TE MUDASTE        0.234        0.811  0.637    0.118   92.025   \n",
       "2             HOY COBRÉ       0.0464         0.86  0.725   0.0994  145.001   \n",
       "3       MALDITA POBREZA        0.139        0.762  0.861   0.0956  133.037   \n",
       "4    LA NOCHE DE ANOCHE       0.0303        0.856  0.618   0.0866   81.993   \n",
       "5     TE DESEO LO MEJOR        0.158        0.763  0.597    0.111  126.054   \n",
       "6          YO VISTO ASÍ       0.0947        0.688  0.881   0.0804  123.013   \n",
       "7  HACIENDO QUE ME AMAS        0.869        0.584  0.411   0.0955  169.934   \n",
       "8              BOOKER T        0.114        0.883    0.6   0.0931  113.903   \n",
       "9              LA DROGA       0.0439        0.643  0.727    0.123   90.019   \n",
       "\n",
       "  valence popularity                     album  \n",
       "0   0.224         70  EL ÚLTIMO TOUR DEL MUNDO  \n",
       "1   0.471         86  EL ÚLTIMO TOUR DEL MUNDO  \n",
       "2   0.375         74  EL ÚLTIMO TOUR DEL MUNDO  \n",
       "3   0.588         71  EL ÚLTIMO TOUR DEL MUNDO  \n",
       "4   0.391         91  EL ÚLTIMO TOUR DEL MUNDO  \n",
       "5   0.194         74  EL ÚLTIMO TOUR DEL MUNDO  \n",
       "6   0.677         76  EL ÚLTIMO TOUR DEL MUNDO  \n",
       "7   0.412         80  EL ÚLTIMO TOUR DEL MUNDO  \n",
       "8   0.691         81  EL ÚLTIMO TOUR DEL MUNDO  \n",
       "9   0.295         73  EL ÚLTIMO TOUR DEL MUNDO  "
      ]
     },
     "execution_count": 9,
     "metadata": {},
     "output_type": "execute_result"
    }
   ],
   "source": [
    "# Album #1 \n",
    "df = pd.DataFrame([spotify_albums[album_uris[0]]['name'],\\\n",
    "              spotify_albums[album_uris[0]]['acousticness'],\\\n",
    "              spotify_albums[album_uris[0]]['danceability'],\\\n",
    "              spotify_albums[album_uris[0]]['energy'],\\\n",
    "              spotify_albums[album_uris[0]]['liveness'],\\\n",
    "              spotify_albums[album_uris[0]]['tempo'],\\\n",
    "              spotify_albums[album_uris[0]]['valence'],\\\n",
    "              spotify_albums[album_uris[0]]['popularity']\\\n",
    "            ]).T\n",
    "\n",
    "# Album #2\n",
    "df2 = pd.DataFrame([spotify_albums[album_uris[1]]['name'],\\\n",
    "              spotify_albums[album_uris[1]]['acousticness'],\\\n",
    "              spotify_albums[album_uris[1]]['danceability'],\\\n",
    "              spotify_albums[album_uris[1]]['energy'],\\\n",
    "              spotify_albums[album_uris[1]]['liveness'],\\\n",
    "              spotify_albums[album_uris[1]]['tempo'],\\\n",
    "              spotify_albums[album_uris[1]]['valence'],\\\n",
    "              spotify_albums[album_uris[1]]['popularity']\n",
    "             ]).T\n",
    "# Album #3\n",
    "df3 = pd.DataFrame([spotify_albums[album_uris[2]]['name'],\\\n",
    "              spotify_albums[album_uris[2]]['acousticness'],\\\n",
    "              spotify_albums[album_uris[2]]['danceability'],\\\n",
    "              spotify_albums[album_uris[2]]['energy'],\\\n",
    "              spotify_albums[album_uris[2]]['liveness'],\\\n",
    "              spotify_albums[album_uris[2]]['tempo'],\\\n",
    "              spotify_albums[album_uris[2]]['valence'],\\\n",
    "              spotify_albums[album_uris[2]]['popularity']\\\n",
    "             ]).T\n",
    "# Album #4\n",
    "df4 = pd.DataFrame([spotify_albums[album_uris[3]]['name'],\\\n",
    "              spotify_albums[album_uris[3]]['acousticness'],\\\n",
    "              spotify_albums[album_uris[3]]['danceability'],\\\n",
    "              spotify_albums[album_uris[3]]['energy'],\\\n",
    "              spotify_albums[album_uris[3]]['liveness'],\\\n",
    "              spotify_albums[album_uris[3]]['tempo'],\\\n",
    "              spotify_albums[album_uris[3]]['valence'],\\\n",
    "              spotify_albums[album_uris[3]]['popularity']\\\n",
    "                   ]).T\n",
    "\n",
    "# Album #5\n",
    "df5 = pd.DataFrame([spotify_albums[album_uris[4]]['name'],\\\n",
    "              spotify_albums[album_uris[4]]['acousticness'],\\\n",
    "              spotify_albums[album_uris[4]]['danceability'],\\\n",
    "              spotify_albums[album_uris[4]]['energy'],\\\n",
    "              spotify_albums[album_uris[4]]['liveness'],\\\n",
    "              spotify_albums[album_uris[4]]['tempo'],\\\n",
    "              spotify_albums[album_uris[4]]['valence'],\\\n",
    "              spotify_albums[album_uris[4]]['popularity']\\\n",
    "                   ]).T\n",
    "\n",
    "# Appending Corresponding Album to Each Song\n",
    "df['album'] = pd.Series(albums[0], index=df.index)\n",
    "df2['album'] = pd.Series(albums[1], index=df2.index)\n",
    "df3['album'] = pd.Series(albums[2], index=df3.index)\n",
    "df4['album'] = pd.Series(albums[3], index=df4.index)\n",
    "df5['album'] = pd.Series(albums[4], index=df5.index)\n",
    "\n",
    "# Concatenate all album data frames into one.\n",
    "data_set = pd.concat([df, df2, df3, df4, df5], ignore_index=True)\n",
    "\n",
    "# Set Column names for data frame\n",
    "data_set.columns = ['name','acousticness','danceability','energy','liveness','tempo','valence', 'popularity', 'album']\n",
    "\n",
    "# Preview the combined Data Frame\n",
    "data_set.head(10)\n"
   ]
  },
  {
   "cell_type": "markdown",
   "metadata": {
    "id": "Qe4jXJOqTuC3"
   },
   "source": [
    "# **Step 3**: Descriptive Statistics\n",
    "- Looped through each feature to get descriptive statistics for all of them."
   ]
  },
  {
   "cell_type": "code",
   "execution_count": 10,
   "metadata": {
    "colab": {
     "base_uri": "https://localhost:8080/"
    },
    "id": "z861fK5I7FWv",
    "outputId": "8ac5e0aa-5e4d-4f8d-8f8a-e00b2a2ca4a3"
   },
   "outputs": [
    {
     "name": "stdout",
     "output_type": "stream",
     "text": [
      "Count of Songs Analyzed: 69\n",
      "\n",
      "acousticness min: 0.0103\n",
      "acousticness max: 0.869\n",
      "acousticness mean: 0.2096\n",
      "acousticness standard dev: 0.2109\n",
      "acousticness variance: 0.0445\n",
      "acousticness 25th percentile: 0.0589\n",
      "acousticness 50th percentile: 0.139\n",
      "acousticness 75th percentile: 0.287\n",
      "\n",
      "danceability min: 0.43\n",
      "danceability max: 0.9\n",
      "danceability mean: 0.7441\n",
      "danceability standard dev: 0.1068\n",
      "danceability variance: 0.0114\n",
      "danceability 25th percentile: 0.683\n",
      "danceability 50th percentile: 0.762\n",
      "danceability 75th percentile: 0.826\n",
      "\n",
      "energy min: 0.379\n",
      "energy max: 0.881\n",
      "energy mean: 0.6639\n",
      "energy standard dev: 0.1229\n",
      "energy variance: 0.0151\n",
      "energy 25th percentile: 0.58\n",
      "energy 50th percentile: 0.656\n",
      "energy 75th percentile: 0.764\n",
      "\n",
      "liveness min: 0.0611\n",
      "liveness max: 0.659\n",
      "liveness mean: 0.1563\n",
      "liveness standard dev: 0.113\n",
      "liveness variance: 0.0128\n",
      "liveness 25th percentile: 0.098\n",
      "liveness 50th percentile: 0.108\n",
      "liveness 75th percentile: 0.153\n",
      "\n",
      "tempo min: 76.993\n",
      "tempo max: 191.911\n",
      "tempo mean: 121.5357\n",
      "tempo standard dev: 32.9122\n",
      "tempo variance: 1083.2155\n",
      "tempo 25th percentile: 92.976\n",
      "tempo 50th percentile: 113.903\n",
      "tempo 75th percentile: 147.982\n",
      "\n",
      "valence min: 0.0508\n",
      "valence max: 0.962\n",
      "valence mean: 0.5141\n",
      "valence standard dev: 0.2403\n",
      "valence variance: 0.0578\n",
      "valence 25th percentile: 0.326\n",
      "valence 50th percentile: 0.514\n",
      "valence 75th percentile: 0.685\n",
      "\n",
      "popularity min: 0\n",
      "popularity max: 91\n",
      "popularity mean: 71.7246\n",
      "popularity standard dev: 10.6838\n",
      "popularity variance: 114.1436\n",
      "popularity 25th percentile: 68.0\n",
      "popularity 50th percentile: 73.0\n",
      "popularity 75th percentile: 76.0\n",
      "\n"
     ]
    }
   ],
   "source": [
    "# Descriptive Statistics for Every Feature of All Artists Songs\n",
    "features = ['acousticness','danceability','energy','liveness','tempo','valence', 'popularity']\n",
    "\n",
    "print(f\"Count of Songs Analyzed: {len(data_set)}\\n\")\n",
    "\n",
    "for feature in features:\n",
    "    print(f\"{feature} min: {round(data_set[feature].min(),4)}\")\n",
    "    print(f\"{feature} max: {round(data_set[feature].max(),4)}\")\n",
    "    print(f\"{feature} mean: {round(data_set[feature].mean(),4)}\")\n",
    "    print(f\"{feature} standard dev: {round(data_set[feature].std(),4)}\")\n",
    "    print(f\"{feature} variance: {round(data_set[feature].var(),4)}\")\n",
    "    print(f\"{feature} 25th percentile: {round(data_set[feature].quantile(.25),4)}\")\n",
    "    print(f\"{feature} 50th percentile: {round(data_set[feature].quantile(.5),4)}\")\n",
    "    print(f\"{feature} 75th percentile: {round(data_set[feature].quantile(.75),4)}\\n\")"
   ]
  },
  {
   "cell_type": "markdown",
   "metadata": {},
   "source": [
    "# **Step 4**: Data Visualization\n",
    "- Created Histograms to visualize the distribution of each feature across all of Bad Bunny's songs.\n",
    "- Created Scatterplots to visualize the relationship between each feature and popularity for all of Bad Bunny's songs."
   ]
  },
  {
   "cell_type": "code",
   "execution_count": 11,
   "metadata": {
    "id": "0rJamuAI6rqo"
   },
   "outputs": [],
   "source": [
    "# Chart Color Scheme\n",
    "dark_red = ['#892A2A']\n",
    "color_scheme = sns.color_palette(dark_red)\n",
    "sns.set_palette(color_scheme)\n",
    "sns.set_style(\"whitegrid\")"
   ]
  },
  {
   "cell_type": "code",
   "execution_count": 12,
   "metadata": {},
   "outputs": [
    {
     "data": {
      "text/plain": [
       "Text(0.5, 1.0, 'Bad Bunny Songs Valence Distribution')"
      ]
     },
     "execution_count": 12,
     "metadata": {},
     "output_type": "execute_result"
    },
    {
     "data": {
      "image/png": "[encoded data removed]",
      "text/plain": [
       "<Figure size 1080x1080 with 6 Axes>"
      ]
     },
     "metadata": {},
     "output_type": "display_data"
    }
   ],
   "source": [
    "sub_fig, axs = plt.subplots(3,2,figsize =(15,15))\n",
    "\n",
    "axs[0,0].hist(data_set['acousticness'], alpha= .8, bins= 10)\n",
    "axs[0,0].set_xlabel('Acousticness')\n",
    "axs[0,0].set_ylabel('Frequency')\n",
    "axs[0,0].set_title('Bad Bunny Songs Acousticness Distribution')\n",
    "\n",
    "axs[0,1].hist(data_set['danceability'], alpha= .8, bins= 10)\n",
    "axs[0,1].set_xlabel('Danceability')\n",
    "axs[0,1].set_ylabel('Frequency')\n",
    "axs[0,1].set_title('Bad Bunny Songs Danceability Distribution')\n",
    "\n",
    "axs[1,0].hist(data_set['energy'], alpha= .8, bins= 10)\n",
    "axs[1,0].set_xlabel('Energy')\n",
    "axs[1,0].set_ylabel('Frequency')\n",
    "axs[1,0].set_title('Bad Bunny Songs Energy Distribution')\n",
    "\n",
    "axs[1,1].hist(data_set['liveness'], alpha= .8, bins= 10)\n",
    "axs[1,1].set_xlabel('Liveness')\n",
    "axs[1,1].set_ylabel('Frequency')\n",
    "axs[1,1].set_title('Bad Bunny Songs Liveness Distribution')\n",
    "\n",
    "axs[2,0].hist(data_set['tempo'], alpha= .8, bins= 10)\n",
    "axs[2,0].set_xlabel('Tempo')\n",
    "axs[2,0].set_ylabel('Frequency')\n",
    "axs[2,0].set_title('Bad Bunny Songs Tempo Distribution')\n",
    "\n",
    "axs[2,1].hist(data_set['valence'], alpha= .8, bins= 10)\n",
    "axs[2,1].set_xlabel('Valence (Percived Positivity)')\n",
    "axs[2,1].set_ylabel('Frequency')\n",
    "axs[2,1].set_title('Bad Bunny Songs Valence Distribution')"
   ]
  },
  {
   "cell_type": "code",
   "execution_count": 16,
   "metadata": {},
   "outputs": [
    {
     "data": {
      "text/plain": [
       "Text(0.5, 1.0, 'Valence and Popularity Scatterplot')"
      ]
     },
     "execution_count": 16,
     "metadata": {},
     "output_type": "execute_result"
    },
    {
     "data": {
      "image/png": "[encoded data removed]",
      "text/plain": [
       "<Figure size 1080x1080 with 6 Axes>"
      ]
     },
     "metadata": {},
     "output_type": "display_data"
    }
   ],
   "source": [
    "sub_fig, axs = plt.subplots(3,2,figsize =(15,15))\n",
    "\n",
    "data_set2 = data_set[data_set['popularity'] >= 80]\n",
    "\n",
    "axs[0,0].plot(data_set2['popularity'], data_set2['acousticness'], 'o' , color= 'black')\n",
    "axs[0,0].set_xlabel('Popularity')\n",
    "axs[0,0].set_ylabel('Acousticness')\n",
    "axs[0,0].set_title('Acousticness and Popularity Scatterplot')\n",
    "\n",
    "axs[0,1].plot(data_set2['popularity'], data_set2['danceability'], 'o' , color= 'black')\n",
    "axs[0,1].set_xlabel('Popularity')\n",
    "axs[0,1].set_ylabel('Danceability')\n",
    "axs[0,1].set_title('Danceability and Popularity Scatterplot')\n",
    "\n",
    "axs[1,0].plot(data_set2['popularity'], data_set2['energy'], 'o' , color= 'black')\n",
    "axs[1,0].set_ylabel('Energy')\n",
    "axs[1,0].set_xlabel('Popularity')\n",
    "axs[1,0].set_title('Energy  and Popularity Scatterplot')\n",
    "\n",
    "axs[1,1].plot(data_set2['popularity'], data_set2['liveness'], 'o' , color= 'black')\n",
    "axs[1,1].set_ylabel('Liveness')\n",
    "axs[1,1].set_xlabel('Popularity')\n",
    "axs[1,1].set_title('Liveness and Popularity Scatterplot')\n",
    "\n",
    "axs[2,0].plot(data_set2['popularity'], data_set2['tempo'], 'o' , color= 'black')\n",
    "axs[2,0].set_ylabel('Tempo')\n",
    "axs[2,0].set_xlabel('Popularity')\n",
    "axs[2,0].set_title('Tempo and Popularity Scatterplot')\n",
    "\n",
    "axs[2,1].plot(data_set2['popularity'], data_set2['valence'], 'o' , color= 'black')\n",
    "axs[2,1].set_ylabel('Valence (Percived Positivity)')\n",
    "axs[2,1].set_xlabel('Popularity')\n",
    "axs[2,1].set_title('Valence and Popularity Scatterplot')"
   ]
  },
  {
   "cell_type": "markdown",
   "metadata": {},
   "source": [
    "# **Step 5**: Database Export"
   ]
  },
  {
   "cell_type": "code",
   "execution_count": 91,
   "metadata": {},
   "outputs": [],
   "source": [
    "# Establish DB Connection to Sqlite3\n",
    "db = sqlite3.connect(r\"C:\\sqlite\\CIS9650DAFP.db\")"
   ]
  },
  {
   "cell_type": "code",
   "execution_count": 92,
   "metadata": {},
   "outputs": [
    {
     "data": {
      "text/html": [
       "<div>\n",
       "<style scoped>\n",
       "    .dataframe tbody tr th:only-of-type {\n",
       "        vertical-align: middle;\n",
       "    }\n",
       "\n",
       "    .dataframe tbody tr th {\n",
       "        vertical-align: top;\n",
       "    }\n",
       "\n",
       "    .dataframe thead th {\n",
       "        text-align: right;\n",
       "    }\n",
       "</style>\n",
       "<table border=\"1\" class=\"dataframe\">\n",
       "  <thead>\n",
       "    <tr style=\"text-align: right;\">\n",
       "      <th></th>\n",
       "      <th>name</th>\n",
       "      <th>acousticness</th>\n",
       "      <th>danceability</th>\n",
       "      <th>energy</th>\n",
       "      <th>liveness</th>\n",
       "      <th>tempo</th>\n",
       "      <th>valence</th>\n",
       "      <th>popularity</th>\n",
       "      <th>album</th>\n",
       "    </tr>\n",
       "  </thead>\n",
       "  <tbody>\n",
       "  </tbody>\n",
       "</table>\n",
       "</div>"
      ],
      "text/plain": [
       "Empty DataFrame\n",
       "Columns: [name, acousticness, danceability, energy, liveness, tempo, valence, popularity, album]\n",
       "Index: []"
      ]
     },
     "execution_count": 92,
     "metadata": {},
     "output_type": "execute_result"
    }
   ],
   "source": [
    "# Test DB To Ensure Proper Loading\n",
    "pd.read_sql(\"SELECT * FROM bad_bunny\", db)"
   ]
  },
  {
   "cell_type": "code",
   "execution_count": 93,
   "metadata": {},
   "outputs": [],
   "source": [
    "# Adding dataframe (data_set) into the db table\n",
    "data_set.to_sql('bad_bunny', db, if_exists='append', index= False)"
   ]
  },
  {
   "cell_type": "code",
   "execution_count": 94,
   "metadata": {},
   "outputs": [
    {
     "data": {
      "text/html": [
       "<div>\n",
       "<style scoped>\n",
       "    .dataframe tbody tr th:only-of-type {\n",
       "        vertical-align: middle;\n",
       "    }\n",
       "\n",
       "    .dataframe tbody tr th {\n",
       "        vertical-align: top;\n",
       "    }\n",
       "\n",
       "    .dataframe thead th {\n",
       "        text-align: right;\n",
       "    }\n",
       "</style>\n",
       "<table border=\"1\" class=\"dataframe\">\n",
       "  <thead>\n",
       "    <tr style=\"text-align: right;\">\n",
       "      <th></th>\n",
       "      <th>name</th>\n",
       "      <th>acousticness</th>\n",
       "      <th>danceability</th>\n",
       "      <th>energy</th>\n",
       "      <th>liveness</th>\n",
       "      <th>tempo</th>\n",
       "      <th>valence</th>\n",
       "      <th>popularity</th>\n",
       "      <th>album</th>\n",
       "    </tr>\n",
       "  </thead>\n",
       "  <tbody>\n",
       "    <tr>\n",
       "      <th>0</th>\n",
       "      <td>EL MUNDO ES MÍO</td>\n",
       "      <td>0.1660</td>\n",
       "      <td>0.716</td>\n",
       "      <td>0.522</td>\n",
       "      <td>0.1130</td>\n",
       "      <td>76.993</td>\n",
       "      <td>0.224</td>\n",
       "      <td>70</td>\n",
       "      <td>EL ÚLTIMO TOUR DEL MUNDO</td>\n",
       "    </tr>\n",
       "    <tr>\n",
       "      <th>1</th>\n",
       "      <td>TE MUDASTE</td>\n",
       "      <td>0.2340</td>\n",
       "      <td>0.811</td>\n",
       "      <td>0.637</td>\n",
       "      <td>0.1180</td>\n",
       "      <td>92.025</td>\n",
       "      <td>0.471</td>\n",
       "      <td>86</td>\n",
       "      <td>EL ÚLTIMO TOUR DEL MUNDO</td>\n",
       "    </tr>\n",
       "    <tr>\n",
       "      <th>2</th>\n",
       "      <td>HOY COBRÉ</td>\n",
       "      <td>0.0464</td>\n",
       "      <td>0.860</td>\n",
       "      <td>0.725</td>\n",
       "      <td>0.0994</td>\n",
       "      <td>145.001</td>\n",
       "      <td>0.375</td>\n",
       "      <td>74</td>\n",
       "      <td>EL ÚLTIMO TOUR DEL MUNDO</td>\n",
       "    </tr>\n",
       "    <tr>\n",
       "      <th>3</th>\n",
       "      <td>MALDITA POBREZA</td>\n",
       "      <td>0.1390</td>\n",
       "      <td>0.762</td>\n",
       "      <td>0.861</td>\n",
       "      <td>0.0956</td>\n",
       "      <td>133.037</td>\n",
       "      <td>0.588</td>\n",
       "      <td>71</td>\n",
       "      <td>EL ÚLTIMO TOUR DEL MUNDO</td>\n",
       "    </tr>\n",
       "    <tr>\n",
       "      <th>4</th>\n",
       "      <td>LA NOCHE DE ANOCHE</td>\n",
       "      <td>0.0303</td>\n",
       "      <td>0.856</td>\n",
       "      <td>0.618</td>\n",
       "      <td>0.0866</td>\n",
       "      <td>81.993</td>\n",
       "      <td>0.391</td>\n",
       "      <td>91</td>\n",
       "      <td>EL ÚLTIMO TOUR DEL MUNDO</td>\n",
       "    </tr>\n",
       "    <tr>\n",
       "      <th>...</th>\n",
       "      <td>...</td>\n",
       "      <td>...</td>\n",
       "      <td>...</td>\n",
       "      <td>...</td>\n",
       "      <td>...</td>\n",
       "      <td>...</td>\n",
       "      <td>...</td>\n",
       "      <td>...</td>\n",
       "      <td>...</td>\n",
       "    </tr>\n",
       "    <tr>\n",
       "      <th>64</th>\n",
       "      <td>La Romana</td>\n",
       "      <td>0.0327</td>\n",
       "      <td>0.655</td>\n",
       "      <td>0.725</td>\n",
       "      <td>0.0611</td>\n",
       "      <td>125.800</td>\n",
       "      <td>0.326</td>\n",
       "      <td>75</td>\n",
       "      <td>X 100PRE</td>\n",
       "    </tr>\n",
       "    <tr>\n",
       "      <th>65</th>\n",
       "      <td>Como Antes</td>\n",
       "      <td>0.6680</td>\n",
       "      <td>0.767</td>\n",
       "      <td>0.379</td>\n",
       "      <td>0.2170</td>\n",
       "      <td>103.956</td>\n",
       "      <td>0.252</td>\n",
       "      <td>69</td>\n",
       "      <td>X 100PRE</td>\n",
       "    </tr>\n",
       "    <tr>\n",
       "      <th>66</th>\n",
       "      <td>RLNDT</td>\n",
       "      <td>0.2630</td>\n",
       "      <td>0.600</td>\n",
       "      <td>0.528</td>\n",
       "      <td>0.5880</td>\n",
       "      <td>108.025</td>\n",
       "      <td>0.142</td>\n",
       "      <td>67</td>\n",
       "      <td>X 100PRE</td>\n",
       "    </tr>\n",
       "    <tr>\n",
       "      <th>67</th>\n",
       "      <td>Estamos Bien</td>\n",
       "      <td>0.8210</td>\n",
       "      <td>0.759</td>\n",
       "      <td>0.536</td>\n",
       "      <td>0.1070</td>\n",
       "      <td>119.883</td>\n",
       "      <td>0.439</td>\n",
       "      <td>73</td>\n",
       "      <td>X 100PRE</td>\n",
       "    </tr>\n",
       "    <tr>\n",
       "      <th>68</th>\n",
       "      <td>MIA</td>\n",
       "      <td>0.0142</td>\n",
       "      <td>0.816</td>\n",
       "      <td>0.538</td>\n",
       "      <td>0.0990</td>\n",
       "      <td>97.054</td>\n",
       "      <td>0.156</td>\n",
       "      <td>63</td>\n",
       "      <td>X 100PRE</td>\n",
       "    </tr>\n",
       "  </tbody>\n",
       "</table>\n",
       "<p>69 rows × 9 columns</p>\n",
       "</div>"
      ],
      "text/plain": [
       "                  name  acousticness  danceability  energy  liveness    tempo  \\\n",
       "0      EL MUNDO ES MÍO        0.1660         0.716   0.522    0.1130   76.993   \n",
       "1           TE MUDASTE        0.2340         0.811   0.637    0.1180   92.025   \n",
       "2            HOY COBRÉ        0.0464         0.860   0.725    0.0994  145.001   \n",
       "3      MALDITA POBREZA        0.1390         0.762   0.861    0.0956  133.037   \n",
       "4   LA NOCHE DE ANOCHE        0.0303         0.856   0.618    0.0866   81.993   \n",
       "..                 ...           ...           ...     ...       ...      ...   \n",
       "64           La Romana        0.0327         0.655   0.725    0.0611  125.800   \n",
       "65          Como Antes        0.6680         0.767   0.379    0.2170  103.956   \n",
       "66               RLNDT        0.2630         0.600   0.528    0.5880  108.025   \n",
       "67        Estamos Bien        0.8210         0.759   0.536    0.1070  119.883   \n",
       "68                 MIA        0.0142         0.816   0.538    0.0990   97.054   \n",
       "\n",
       "    valence  popularity                     album  \n",
       "0     0.224          70  EL ÚLTIMO TOUR DEL MUNDO  \n",
       "1     0.471          86  EL ÚLTIMO TOUR DEL MUNDO  \n",
       "2     0.375          74  EL ÚLTIMO TOUR DEL MUNDO  \n",
       "3     0.588          71  EL ÚLTIMO TOUR DEL MUNDO  \n",
       "4     0.391          91  EL ÚLTIMO TOUR DEL MUNDO  \n",
       "..      ...         ...                       ...  \n",
       "64    0.326          75                  X 100PRE  \n",
       "65    0.252          69                  X 100PRE  \n",
       "66    0.142          67                  X 100PRE  \n",
       "67    0.439          73                  X 100PRE  \n",
       "68    0.156          63                  X 100PRE  \n",
       "\n",
       "[69 rows x 9 columns]"
      ]
     },
     "execution_count": 94,
     "metadata": {},
     "output_type": "execute_result"
    }
   ],
   "source": [
    "# Checking\n",
    "pd.read_sql(\"SELECT * FROM bad_bunny\", db)"
   ]
  },
  {
   "cell_type": "code",
   "execution_count": null,
   "metadata": {},
   "outputs": [],
   "source": []
  }
 ],
 "metadata": {
  "colab": {
   "name": "CIS9650 Data Analytics Project.ipynb",
   "provenance": []
  },
  "kernelspec": {
   "display_name": "Python 3",
   "language": "python",
   "name": "python3"
  },
  "language_info": {
   "codemirror_mode": {
    "name": "ipython",
    "version": 3
   },
   "file_extension": ".py",
   "mimetype": "text/x-python",
   "name": "python",
   "nbconvert_exporter": "python",
   "pygments_lexer": "ipython3",
   "version": "3.7.6"
  }
 },
 "nbformat": 4,
 "nbformat_minor": 1
}
